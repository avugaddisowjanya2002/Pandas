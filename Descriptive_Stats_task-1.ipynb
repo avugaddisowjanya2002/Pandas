{
 "cells": [
  {
   "cell_type": "code",
   "execution_count": null,
   "id": "84e0144f",
   "metadata": {},
   "outputs": [],
   "source": []
  },
  {
   "cell_type": "markdown",
   "id": "f04afa86",
   "metadata": {},
   "source": [
    "##### Measures of Central Tendency:\n",
    "\n",
    "1) Calculate the mean sales for Product A and Product B. Compare the average monthly sales for the two products and discuss any observed trends.\n",
    "2) Find the median sales for each product and discuss how it reflects the central tendency of the sales distribution.\n",
    "3) Identify the mode of the sales data for both Product A and Product B. Discuss the significance of the mode in the context of these products.\n",
    "4) Calculate the weighted mean of the sales data, assuming each month has an equal weight. Discuss any implications of using weighted mean in this context.\n"
   ]
  },
  {
   "cell_type": "code",
   "execution_count": 106,
   "id": "1e3043d4",
   "metadata": {},
   "outputs": [],
   "source": [
    "import numpy as np"
   ]
  },
  {
   "cell_type": "code",
   "execution_count": 107,
   "id": "48721f42",
   "metadata": {},
   "outputs": [],
   "source": [
    "file_path =(r\"C:\\Users\\admin\\Desktop\\JUPYTER\\pandas\\Sample_data.csv\")"
   ]
  },
  {
   "cell_type": "code",
   "execution_count": 100,
   "id": "0ed0fd32",
   "metadata": {},
   "outputs": [
    {
     "name": "stdout",
     "output_type": "stream",
     "text": [
      "[[ 0. 25. 40.]\n",
      " [ 1. 30. 35.]\n",
      " [ 2. 28. 38.]\n",
      " [ 3. 32. 41.]\n",
      " [ 4. 26. 37.]\n",
      " [ 5. 29. 36.]\n",
      " [ 6. 27. 39.]\n",
      " [ 7. 33. 42.]\n",
      " [ 8. 31. 38.]\n",
      " [ 9. 28. 37.]\n",
      " [10. 30. 40.]\n",
      " [11. 29. 36.]]\n"
     ]
    }
   ],
   "source": [
    "data = np.genfromtxt(file_path, delimiter=',',skip_header=1 )\n",
    "print(data)"
   ]
  },
  {
   "cell_type": "markdown",
   "id": "5b988a0e",
   "metadata": {},
   "source": [
    "1) Calculate the mean sales for Product A and Product B. Compare the average monthly sales for the two products and discuss any observed trends."
   ]
  },
  {
   "cell_type": "code",
   "execution_count": 85,
   "id": "e5c142af",
   "metadata": {},
   "outputs": [
    {
     "data": {
      "text/plain": [
       "(13, 3)"
      ]
     },
     "execution_count": 85,
     "metadata": {},
     "output_type": "execute_result"
    }
   ],
   "source": [
    "data.shape"
   ]
  },
  {
   "cell_type": "code",
   "execution_count": 94,
   "id": "bbe44999",
   "metadata": {},
   "outputs": [
    {
     "name": "stdout",
     "output_type": "stream",
     "text": [
      "[25. 30. 28. 32. 26. 29. 27. 33. 31. 28. 30. 29.]\n",
      "Mean of Product A is :  29.0\n"
     ]
    }
   ],
   "source": [
    "product_A = data[:,1]\n",
    "print(product_A)\n",
    "mean_product_A = np.mean(product_A)\n",
    "print(\"Mean of Product A is : \",mean_product_A)"
   ]
  },
  {
   "cell_type": "code",
   "execution_count": 95,
   "id": "d20d039c",
   "metadata": {},
   "outputs": [
    {
     "name": "stdout",
     "output_type": "stream",
     "text": [
      "[40. 35. 38. 41. 37. 36. 39. 42. 38. 37. 40. 36.]\n",
      "Mean of Product B is :  38.25\n"
     ]
    }
   ],
   "source": [
    "product_B = data[:,2]\n",
    "print(product_B)\n",
    "mean_product_B = np.mean(product_B)\n",
    "print(\"Mean of Product B is : \",mean_product_B)"
   ]
  },
  {
   "cell_type": "markdown",
   "id": "b25fbcba",
   "metadata": {},
   "source": [
    " Mean (Average):\n",
    "* ProductA has an average monthly sales of 29 units.\n",
    "* ProductB has an average monthly sales of 38.25 units.\n",
    "\n",
    "Comparison:\n",
    "* ProductB has a higher average monthly sales compared to ProductA."
   ]
  },
  {
   "cell_type": "code",
   "execution_count": 119,
   "id": "91e82af7",
   "metadata": {},
   "outputs": [
    {
     "name": "stdout",
     "output_type": "stream",
     "text": [
      "25% :  27.75\n",
      "50% :  29.0\n",
      "75% :  30.25\n"
     ]
    }
   ],
   "source": [
    "#Calculating percentiles\n",
    "product_A_25 = np.percentile(product_A,25)\n",
    "product_A_50= np.percentile(product_A,50)\n",
    "product_A_75= np.percentile(product_A,75)\n",
    "print(\"25% : \",product_A_25)\n",
    "print(\"50% : \" , product_A_50)\n",
    "print(\"75% : \", product_A_75)"
   ]
  },
  {
   "cell_type": "code",
   "execution_count": 118,
   "id": "aee2d2e7",
   "metadata": {},
   "outputs": [
    {
     "name": "stdout",
     "output_type": "stream",
     "text": [
      "25% :  36.75\n",
      "50% :  38.0\n",
      "75% :  40.0\n"
     ]
    }
   ],
   "source": [
    "product_B_25 = np.percentile(product_B,25)\n",
    "product_B_50= np.percentile(product_B,50)\n",
    "product_B_75= np.percentile(product_B,75)\n",
    "print(\"25% : \",product_B_25)\n",
    "print(\"50% : \" , product_B_50)\n",
    "print(\"75% : \", product_B_75)"
   ]
  },
  {
   "cell_type": "markdown",
   "id": "227f87c2",
   "metadata": {},
   "source": [
    "* Looking at the percentiles (25%, 50%, 75%), we can see that ProductB consistently has higher sales values than ProductA. This reinforces the observation that ProductB generally outperforms ProductA across different sales levels.\n"
   ]
  },
  {
   "cell_type": "markdown",
   "id": "769ae4be",
   "metadata": {},
   "source": [
    "2) Find the median sales for each product and discuss how it reflects the central tendency of the sales distribution."
   ]
  },
  {
   "cell_type": "code",
   "execution_count": 126,
   "id": "a9f8dcad",
   "metadata": {},
   "outputs": [
    {
     "name": "stdout",
     "output_type": "stream",
     "text": [
      "median sales of product A :  29.0\n"
     ]
    }
   ],
   "source": [
    "median_A = np.median(product_A)\n",
    "print(\"median sales of product A : \",median_A)"
   ]
  },
  {
   "cell_type": "code",
   "execution_count": 127,
   "id": "19bdba94",
   "metadata": {},
   "outputs": [
    {
     "name": "stdout",
     "output_type": "stream",
     "text": [
      "median sales of product B :  38.0\n"
     ]
    }
   ],
   "source": [
    "median_B = np.median(product_B)\n",
    "print(\"median sales of product B : \",median_B)"
   ]
  },
  {
   "cell_type": "markdown",
   "id": "0897bd51",
   "metadata": {},
   "source": [
    "\n",
    "\n",
    "\n",
    "    median of product B is middle value it indicates that below median sales are low and above medium sales are high\n",
    "\n",
    "    median shows a clear middle point in the sales data for both products\n",
    "\n"
   ]
  },
  {
   "cell_type": "markdown",
   "id": "0a72a74e",
   "metadata": {},
   "source": [
    "3) Identify the mode of the sales data for both Product A and Product B. Discuss the significance of the mode in the context of these products."
   ]
  },
  {
   "cell_type": "code",
   "execution_count": 130,
   "id": "0a2f00f2",
   "metadata": {},
   "outputs": [],
   "source": [
    "import statistics as sts"
   ]
  },
  {
   "cell_type": "code",
   "execution_count": 131,
   "id": "58abbc5d",
   "metadata": {},
   "outputs": [
    {
     "data": {
      "text/plain": [
       "30.0"
      ]
     },
     "execution_count": 131,
     "metadata": {},
     "output_type": "execute_result"
    }
   ],
   "source": [
    "sts.mode(product_A)"
   ]
  },
  {
   "cell_type": "code",
   "execution_count": 132,
   "id": "8658cdd4",
   "metadata": {},
   "outputs": [
    {
     "data": {
      "text/plain": [
       "40.0"
      ]
     },
     "execution_count": 132,
     "metadata": {},
     "output_type": "execute_result"
    }
   ],
   "source": [
    "sts.mode(product_B)"
   ]
  },
  {
   "cell_type": "markdown",
   "id": "cbb64931",
   "metadata": {},
   "source": []
  },
  {
   "cell_type": "markdown",
   "id": "8b8cfe9d",
   "metadata": {},
   "source": [
    "4) Calculate the weighted mean of the sales data, assuming each month has an equal weight. Discuss any implications of using weighted mean in this context."
   ]
  },
  {
   "cell_type": "markdown",
   "id": "7b71d5d4",
   "metadata": {},
   "source": [
    "![](https://www.gstatic.com/education/formulas2/553212783/en/weighted_average_formula.svg)\n",
    "W\t=\tweighted average\n",
    "\n",
    "n\t=\tnumber of terms to be averaged\n",
    "\n",
    "w_{i}\t=\tweights applied to x values\n",
    "\n",
    "X_{i}\t=\tdata values to be averaged\n"
   ]
  },
  {
   "cell_type": "code",
   "execution_count": 141,
   "id": "671a7f54",
   "metadata": {},
   "outputs": [
    {
     "name": "stdout",
     "output_type": "stream",
     "text": [
      "Weighted mean of product A :  29.0\n",
      "Weighted mean of product B :  38.25\n"
     ]
    }
   ],
   "source": [
    "weighted_mean_A = np.mean(product_A)  # each month has an equal weight, the weighted mean is equivalent to the regular mean.\n",
    "print(\"Weighted mean of product A : \",weighted_mean_A)  \n",
    "weighted_mean_B = np.mean(product_B)\n",
    "print(\"Weighted mean of product B : \",weighted_mean_B)"
   ]
  },
  {
   "cell_type": "markdown",
   "id": "95b73063",
   "metadata": {},
   "source": [
    "###### Measures of Dispersion:\n",
    "1. Compute the range of monthly sales for both Product A and Product B. Discuss how the range provides insights into the variability of sales.\n"
   ]
  },
  {
   "cell_type": "code",
   "execution_count": 146,
   "id": "cb317bf4",
   "metadata": {},
   "outputs": [
    {
     "name": "stdout",
     "output_type": "stream",
     "text": [
      "Range of Product A :  8.0\n"
     ]
    }
   ],
   "source": [
    "range_product_A=np.max(product_A)-np.min(product_A)\n",
    "print(\"Range of Product A : \",range_product_A)"
   ]
  },
  {
   "cell_type": "code",
   "execution_count": 147,
   "id": "4cbbc8bf",
   "metadata": {},
   "outputs": [
    {
     "name": "stdout",
     "output_type": "stream",
     "text": [
      "Range of Product B :  7.0\n"
     ]
    }
   ],
   "source": [
    "range_product_B=np.max(product_B)-np.min(product_B)\n",
    "print(\"Range of Product B : \",range_product_B)"
   ]
  },
  {
   "cell_type": "markdown",
   "id": "d74657d9",
   "metadata": {},
   "source": [
    "2) Calculate the variance of the sales data for both products. Discuss what the variance reveals about the spread of sales for each product."
   ]
  },
  {
   "cell_type": "code",
   "execution_count": 148,
   "id": "c832364d",
   "metadata": {},
   "outputs": [
    {
     "name": "stdout",
     "output_type": "stream",
     "text": [
      "5.166666666666667\n"
     ]
    }
   ],
   "source": [
    "Variance_A = np.var(product_A)\n",
    "print(Variance_A)"
   ]
  },
  {
   "cell_type": "code",
   "execution_count": 149,
   "id": "7cc90ffb",
   "metadata": {},
   "outputs": [
    {
     "name": "stdout",
     "output_type": "stream",
     "text": [
      "4.354166666666667\n"
     ]
    }
   ],
   "source": [
    "Variance_B = np.var(product_B)\n",
    "print(Variance_B)"
   ]
  },
  {
   "cell_type": "markdown",
   "id": "ce402cf3",
   "metadata": {},
   "source": [
    "3) Determine the standard deviation of the sales for Product A and Product B. Discuss the significance of standard deviation in understanding the variability in sales."
   ]
  },
  {
   "cell_type": "code",
   "execution_count": 152,
   "id": "545e2711",
   "metadata": {},
   "outputs": [
    {
     "name": "stdout",
     "output_type": "stream",
     "text": [
      "2.273030282830976\n",
      "2.0866640042581523\n"
     ]
    }
   ],
   "source": [
    "# Standard Deviation  \n",
    "std_deviation_productA = np.std(product_A)\n",
    "print(std_deviation_productA)\n",
    "std_deviation_productB = np.std(product_B)\n",
    "print(std_deviation_productB)"
   ]
  },
  {
   "cell_type": "markdown",
   "id": "d2b17fa6",
   "metadata": {},
   "source": [
    "###### Relative Measures of Dispersion:\n",
    "1.Calculate the coefficient of variation for the sales data of Product A. Discuss how this relative measure of dispersion helps in comparing the variability of products with different average sales.\n"
   ]
  },
  {
   "cell_type": "code",
   "execution_count": 153,
   "id": "92ede193",
   "metadata": {},
   "outputs": [
    {
     "name": "stdout",
     "output_type": "stream",
     "text": [
      "[25. 30. 28. 32. 26. 29. 27. 33. 31. 28. 30. 29.]\n"
     ]
    }
   ],
   "source": [
    "print(product_A)"
   ]
  },
  {
   "cell_type": "code",
   "execution_count": 163,
   "id": "820441e6",
   "metadata": {},
   "outputs": [
    {
     "name": "stdout",
     "output_type": "stream",
     "text": [
      "29.0\n",
      "2.273030282830976\n",
      "coefficient of variation for the sales data of Product A :  7.838035458037848\n"
     ]
    }
   ],
   "source": [
    "print(mean_product_A)\n",
    "print(std_deviation_productA)\n",
    "c = (std_deviation_productA/mean_product_A)*100\n",
    "print(\"coefficient of variation for the sales data of Product A : \",c)"
   ]
  },
  {
   "cell_type": "markdown",
   "id": "44933121",
   "metadata": {},
   "source": [
    "2. Compute the relative range for Product B. Discuss how the relative range accounts for the scale of the sales data."
   ]
  },
  {
   "cell_type": "code",
   "execution_count": 165,
   "id": "99f1d7be",
   "metadata": {},
   "outputs": [
    {
     "data": {
      "text/plain": [
       "7.0"
      ]
     },
     "execution_count": 165,
     "metadata": {},
     "output_type": "execute_result"
    }
   ],
   "source": [
    "range_product_B"
   ]
  },
  {
   "cell_type": "code",
   "execution_count": 170,
   "id": "ad8378b5",
   "metadata": {},
   "outputs": [
    {
     "name": "stdout",
     "output_type": "stream",
     "text": [
      "18.30065359477124\n"
     ]
    }
   ],
   "source": [
    "relative_range_B = (range_product_B/mean_product_B)*100\n",
    "print(relative_range_B)"
   ]
  },
  {
   "cell_type": "markdown",
   "id": "e7498ff1",
   "metadata": {},
   "source": [
    "3. Determine the relative standard deviation for Product A. Interpret the result and discuss its implications for understanding the variability relative to the mean.\n",
    "\n"
   ]
  },
  {
   "cell_type": "code",
   "execution_count": 178,
   "id": "4a4cad0f",
   "metadata": {},
   "outputs": [
    {
     "name": "stdout",
     "output_type": "stream",
     "text": [
      "7.838035458037848\n"
     ]
    }
   ],
   "source": [
    "std_A=np.std(product_A)\n",
    "mean_product_A\n",
    "relative_std_A = (std_A/mean_product_A)*100\n",
    "print(relative_std_A)"
   ]
  },
  {
   "cell_type": "markdown",
   "id": "f509ecbc",
   "metadata": {},
   "source": [
    "\n",
    "\n",
    "    Product A mean is 29.0 and relative standard deviation of product A is 7.838035458037848\n",
    "    Product A is with low CV values have less relative variability around their mean, sales are stable consistent\n",
    "\n"
   ]
  },
  {
   "cell_type": "code",
   "execution_count": null,
   "id": "93cdf28d",
   "metadata": {},
   "outputs": [],
   "source": []
  }
 ],
 "metadata": {
  "kernelspec": {
   "display_name": "Python 3 (ipykernel)",
   "language": "python",
   "name": "python3"
  },
  "language_info": {
   "codemirror_mode": {
    "name": "ipython",
    "version": 3
   },
   "file_extension": ".py",
   "mimetype": "text/x-python",
   "name": "python",
   "nbconvert_exporter": "python",
   "pygments_lexer": "ipython3",
   "version": "3.11.5"
  }
 },
 "nbformat": 4,
 "nbformat_minor": 5
}
