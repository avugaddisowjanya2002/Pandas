{
 "cells": [
  {
   "cell_type": "code",
   "execution_count": null,
   "id": "6d658d6b",
   "metadata": {},
   "outputs": [],
   "source": []
  },
  {
   "cell_type": "markdown",
   "id": "214e1207",
   "metadata": {},
   "source": [
    "1. Write a function, foo_1, that takes a NumPy array `arr` and returns the indices of the elements that are closest to a given target. If target is not in the given array, it should return ‘no item found’\n",
    "\n",
    "`Input`:\n",
    "arr = np.array([3, 8, 7, 7, 7, 7, 7, 8, 7, 10])\n",
    "\n",
    "target = 7\n",
    "\n",
    "foo_1(arr, target)\n",
    "\n",
    "`Output`:\n",
    "[2 3 4 5 6 8 7 1 9 0]\n",
    "\n",
    "`Input`:\n",
    "arr = np.array([3, 8, 7, 7, 7, 7, 7, 8, 7, 10])\n",
    "\n",
    "target = 11\n",
    "\n",
    "foo_1(arr, target)\n",
    "\n",
    "`Output`:\n",
    "’no item found’\n",
    "\n",
    "\n",
    "\n"
   ]
  },
  {
   "cell_type": "code",
   "execution_count": 35,
   "id": "4e8e0701",
   "metadata": {},
   "outputs": [
    {
     "name": "stdout",
     "output_type": "stream",
     "text": [
      "Enter an array of elements separated by commas: 3,8,7,7,7,7,7,8,7,10\n",
      "Enter the target value: 7\n",
      "[2 3 4 5 6 8 1 7 9 0]\n"
     ]
    }
   ],
   "source": [
    "arr_input = input(\"Enter an array of elements separated by commas: \")\n",
    "arr = np.array([int(x) for x in arr_input.split(',')])\n",
    "\n",
    "target = int(input(\"Enter the target value: \"))\n",
    "def foo_1(arr, target):\n",
    "    arr=np.array(arr)\n",
    "    indices = np.argsort(np.abs(arr - target))\n",
    "    \n",
    "    if arr[indices[0]] == target:\n",
    "        return indices\n",
    "    else:\n",
    "        return 'no item found'\n",
    "output = foo_1(arr, target)\n",
    "print(output)"
   ]
  },
  {
   "cell_type": "markdown",
   "id": "bc2187d2",
   "metadata": {},
   "source": [
    "The foo_1 function takes a NumPy array arr and an integer target as input.\n",
    "\n",
    "It converts arr to a NumPy array (though it was already a NumPy array in the main code).\n",
    "\n",
    "np.abs(arr - target) calculates the absolute difference between each element of arr and the target value.\n",
    "\n",
    "np.argsort(...) returns the indices that would sort the absolute differences in ascending order.\n",
    "\n",
    "The function checks if the element at the first index of the sorted array equals the target. If yes, it returns the sorted indices; otherwise, it returns the string 'no item found'."
   ]
  },
  {
   "cell_type": "markdown",
   "id": "2e5bcd0b",
   "metadata": {},
   "source": [
    "###### 3.1 You are given a 2D NumPy array of data representing student scores. Each row represents a student, and each column represents a subject. Extract the scores of all students who scored above 90 in at least one subject. Provide the resulting array.\n",
    "\n",
    "\n",
    " \n"
   ]
  },
  {
   "cell_type": "code",
   "execution_count": 39,
   "id": "7a0d377d",
   "metadata": {},
   "outputs": [
    {
     "name": "stdout",
     "output_type": "stream",
     "text": [
      "Original array:\n",
      "[[85 89 88]\n",
      " [78 89 94]\n",
      " [91 87 90]\n",
      " [87 94 84]]\n",
      "\n",
      "Resulting array (scores of students who scored above 90 in at least one subject):\n",
      "[[78 89 94]\n",
      " [91 87 90]\n",
      " [87 94 84]]\n"
     ]
    }
   ],
   "source": [
    "student_scores = np.array([\n",
    "    [85, 89, 88],\n",
    "    [78, 89, 94],\n",
    "    [91, 87, 90],\n",
    "    [87, 94, 84]\n",
    "])\n",
    "above_90_mask = np.any(student_scores > 90, axis=1)\n",
    "result_array = student_scores[above_90_mask]\n",
    "\n",
    "print(\"Original array:\")\n",
    "print(student_scores)\n",
    "\n",
    "print(\"\\nResulting array (scores of students who scored above 90 in at least one subject):\")\n",
    "print(result_array)"
   ]
  },
  {
   "cell_type": "markdown",
   "id": "c6138e6d",
   "metadata": {},
   "source": [
    "It identifies and extracts the scores of students who scored above 90 in at least one subject from the original 2D NumPy array student_scores. The boolean mask above_90_mask is used to determine which rows meet the condition, and then boolean indexing is applied to extract the corresponding rows from the original array."
   ]
  },
  {
   "cell_type": "markdown",
   "id": "2f09a56b",
   "metadata": {},
   "source": [
    "###### 3.2 You are provided with a 2D NumPy array of data representing sales data for different products. Each row corresponds to a product, and each column represents the monthly sales for a specific month. Calculate the following statistics for each product: mean, median, standard deviation, and the month with the highest sales.\n",
    "\n"
   ]
  },
  {
   "cell_type": "code",
   "execution_count": 40,
   "id": "dfe8f02b",
   "metadata": {},
   "outputs": [
    {
     "name": "stdout",
     "output_type": "stream",
     "text": [
      "Product 1:\n",
      "  Mean: 127.5\n",
      "  Median: 125.0\n",
      "  Standard Deviation: 14.79019945774904\n",
      "  Month with Highest Sales: Month 2\n",
      "\n",
      "Product 2:\n",
      "  Mean: 187.5\n",
      "  Median: 190.0\n",
      "  Standard Deviation: 25.8602010819715\n",
      "  Month with Highest Sales: Month 3\n",
      "\n",
      "Product 3:\n",
      "  Mean: 98.75\n",
      "  Median: 97.5\n",
      "  Standard Deviation: 7.39509972887452\n",
      "  Month with Highest Sales: Month 4\n",
      "\n",
      "Product 4:\n",
      "  Mean: 310.0\n",
      "  Median: 310.0\n",
      "  Standard Deviation: 22.360679774997898\n",
      "  Month with Highest Sales: Month 4\n",
      "\n"
     ]
    }
   ],
   "source": [
    "sales_data = np.array([\n",
    "    [120, 150, 130, 110],\n",
    "    [200, 180, 220, 150],\n",
    "    [90, 100, 95, 110],\n",
    "    [300, 280, 320, 340]\n",
    "])\n",
    "mean_values = np.mean(sales_data, axis=1)\n",
    "median_values = np.median(sales_data, axis=1)\n",
    "std_dev_values = np.std(sales_data, axis=1)\n",
    "max_month_indices = np.argmax(sales_data, axis=1)\n",
    "\n",
    "for i in range(len(mean_values)):\n",
    "    print(f\"Product {i + 1}:\")\n",
    "    print(f\"  Mean: {mean_values[i]}\")\n",
    "    print(f\"  Median: {median_values[i]}\")\n",
    "    print(f\"  Standard Deviation: {std_dev_values[i]}\")\n",
    "    print(f\"  Month with Highest Sales: Month {max_month_indices[i] + 1}\")\n",
    "    print()"
   ]
  },
  {
   "cell_type": "markdown",
   "id": "cba9f709",
   "metadata": {},
   "source": [
    "\n",
    "    step1 :Creating a function foo with parameter sales_data\n",
    "        sales_data : an array which representing sales data for different products.\n",
    "    step 2 : finding average with respect to 'axis=1' which means, finding center of data for sales of different products using np.mean method\n",
    "    step 3: finding middle value with respect to 'axis=1' which means, finding middlevalue for sales of different products using np.median method\n",
    "    step 4: finding standard deviation with respect to 'axis=1' which means, finding spread of data for sales of different products using np.std method\n",
    "    step 5: finding highest sales month with respect to 'axis=1' which means, finding highest sales happen for products using np.max method\n",
    "    step 6 : using for loop it will iterate in range of sales_data\n",
    "        for each product for loop iterates\n",
    "        for each product it will print mean , median, standard deviation , and highest sales month\n"
   ]
  },
  {
   "cell_type": "markdown",
   "id": "74e89ef4",
   "metadata": {},
   "source": [
    "###### 3.3 Create a NumPy array of size 1000 with random integers between 1 and 100. Then, use NumPy functions to find the top 10 most frequently occurring values in the array.\n"
   ]
  },
  {
   "cell_type": "code",
   "execution_count": 38,
   "id": "6bcd0eab",
   "metadata": {},
   "outputs": [
    {
     "name": "stdout",
     "output_type": "stream",
     "text": [
      "Random Array:\n",
      "[ 34  52  65  94   5  82  30  93  58   5  78  90   1   9   5  57  69  99\n",
      "  99  13  24   3  66  31  99  62  54  71  78  48  24  12  46  53  22   8\n",
      "  16  71  43  95  93  35  72   2  76  55  60  79  83  24  46  60   4  25\n",
      "  69 100  15   8  76  21  68   5  56  56   6  51  95  53  29  95  91  44\n",
      "  74  46  47  93  98  78  24   8  67  13  69  72  57  96  80  25  63  31\n",
      "  68  66  33  68  39  78  73  98  11  81  97  59  86  32  64  82  55  36\n",
      "  76  32  73   2  23  16  49  20  94  23  94  51  29  74  82   9   4  67\n",
      " 100  11  29  49  15  18  26  59  15  11  95  19  71  83   5  43  65  21\n",
      "   9  91  69  27  92  96  32  51  21  34  28   9  67  26  17  84  88  56\n",
      "  65  56  48  98  34  68  59  64  26  38  57  84  99  74  57  67  49  73\n",
      "  54  80   9  64  59  82  21  88  42   1  17  83  78  50  13  47   4  20\n",
      "  23  35  99  48  99   5  85   5  74  70  26  17  24  27  85  54  30  22\n",
      "  28  81  36  60  18  20  31  11  57  13   3  94  15  24  61  46  96  63\n",
      "  49  98  25  60  47  76  81  48   8   2  73  47  78  78  80   4  43  14\n",
      "  51  21 100  38  20  60  30  58  20  32  52  20   2  26  36  57  30  56\n",
      "  15   8  58  92  15  37  49  46  73  15  74  20  81  74  11  52  57   1\n",
      "  16  37  20  98  27  12  42  93  24  74  52  39  93  87  14  85  37   2\n",
      "  16   9  28  75  92   8  53  46  13  94  93  36  17   5   7  65  79   2\n",
      "  50  74  42  89  22  31  83  95  73   9  74  55  68  99   9  17  87  79\n",
      "   4  99  67  90  61  70  33  59  94   1   5  24  54   1  73  47  69  70\n",
      "  69  72 100  91  14  83  84  91  14  73  59  75  90  31  77  16  24  89\n",
      "  33  76  28  99  79  21  10  67  31  65  27  97  65  16  89  11  85  76\n",
      "  36   6  32  17  93  61  17  42  46  73  47  80   8  54  42  57  73  66\n",
      "  46  10  27  89  92  51  12  20  79  82  50  72  36  97  70  93  27   2\n",
      "  11  22  66  47  61  88  86  47  10  46  37  42  32  53  83   1  54  76\n",
      "   4  19  25  58  36  20  70  72  52  90  76  49  31  67  84   2  62  69\n",
      "   3  51  18  86  93   8  78  17  86  53  44   7  82  69  76  94   8  61\n",
      "  14  28  53  39  58  45  61  10  10  75  59  31  38  30   4  37  43   7\n",
      " 100  80  27  68  41  41  98 100  12  66  22  37  64  57  27  90  42   3\n",
      "  75  48  14  81  48  66  78  70  81  44  59  14   4  94  81  14  25   6\n",
      "  36  22  71  23  41  75   4  49  24  81  86  38  85  62 100  32  46  55\n",
      "   6  52  36  64  36  28  64  57  86  88  91  51  98  95  11  65  88  35\n",
      "  43  40  19  17  84  23  77  74  91  72  96  26  30  77  96  27  77  71\n",
      "  45  45  64  79  23  89  30  68  94  17  97  22  60  55  36  60  32  91\n",
      "  41  61  48  97  81  75  99  53  46  79  88   4  72  84  56  53  41  31\n",
      "  20  56  33  20  37  87  62  76  63  89  73  99  97  74  82  48  29  69\n",
      "  15  41  97  48  44  74  43   5  29  13  66  51  19  85   3  92   9  88\n",
      "  46  54  14  37  56  12   1  12  59  70  30  29  13  95  25  77  47  96\n",
      "  15  97  50   5  59  75  97   5  81  57  22  91  69  82  25  78  12  31\n",
      "  36  73  36  69  85  23  53  69  55  30  15  30  10  63  34  18  11 100\n",
      "  62  84  46  98  54  84  88   5  56  37  94  67   8  71  20  13  35  45\n",
      "  85  27  23   1  45  10  23  84  47  90   2  18  78  67  11  60  90  63\n",
      "  95  32  99  58  58  80  26  60   3  20  74  56  91  68  86  65  70  10\n",
      "  62  77   6  27   2  15  53  72  33  73  48  76   3  38  90  37  22  76\n",
      "  29  99  99  91   8  79  62  43  95   8  47  74  76 100  54  82  63  57\n",
      "   3  21   9  52  73  47  93  11  47  86  45  87  41  24   1  75  62  35\n",
      "  87  66  53  35  85  39  31  65  89  86  89  36  87   8  11  84  59  72\n",
      "   2  43  19  45  29  16  54  24  42  74  78  81  13  23  18  44   8  93\n",
      "  26  79  18  22  50  73  61  47   8  63  85   6  83  82  31  90  39   7\n",
      "  66  10  78  35  86  87   3  90  50  14  46  30  12  42  25  29  66   8\n",
      "  73  67   7  52  34  39  61  60  76  72  33  90  76  91  80  86  64  40\n",
      "  58  33  31  73  49  66  43  97   4  77  68  66   8   8  73  45  61  82\n",
      "  39  21  68  24  71  81  46  13  22  54  72  89  77  20  15  18  26  64\n",
      "  97  98  28  24  88  47  45  48  46  95  58  79  39  51   3  27 100  12\n",
      "  78  78  83  59  95  36   3  19  98   2  13  39  97  42  75   1  95   6\n",
      "  45  75  72  79  65  51  27   9  88  88]\n",
      "\n",
      "Top 10 Most Frequently Occurring Values:\n",
      "Value: 8, Count: 18\n",
      "Value: 73, Count: 18\n",
      "Value: 46, Count: 16\n",
      "Value: 76, Count: 15\n",
      "Value: 47, Count: 15\n",
      "Value: 36, Count: 15\n",
      "Value: 74, Count: 15\n",
      "Value: 20, Count: 15\n",
      "Value: 78, Count: 15\n",
      "Value: 24, Count: 14\n"
     ]
    }
   ],
   "source": [
    "random_array = np.random.randint(1, 101, size=1000)\n",
    "unique_values, counts = np.unique(random_array, return_counts=True)\n",
    "sorted_indices = np.argsort(counts)[::-1] \n",
    "top_10_values = unique_values[sorted_indices[:10]]\n",
    "top_10_counts = counts[sorted_indices[:10]]\n",
    "\n",
    "print(\"Random Array:\")\n",
    "print(random_array)\n",
    "print(\"\\nTop 10 Most Frequently Occurring Values:\")\n",
    "for value, count in zip(top_10_values, top_10_counts):\n",
    "    print(f\"Value: {value}, Count: {count}\")"
   ]
  },
  {
   "cell_type": "markdown",
   "id": "9f680a98",
   "metadata": {},
   "source": [
    "\n",
    "\n"
   ]
  },
  {
   "cell_type": "code",
   "execution_count": null,
   "id": "d07cc17a",
   "metadata": {},
   "outputs": [],
   "source": []
  }
 ],
 "metadata": {
  "kernelspec": {
   "display_name": "Python 3 (ipykernel)",
   "language": "python",
   "name": "python3"
  },
  "language_info": {
   "codemirror_mode": {
    "name": "ipython",
    "version": 3
   },
   "file_extension": ".py",
   "mimetype": "text/x-python",
   "name": "python",
   "nbconvert_exporter": "python",
   "pygments_lexer": "ipython3",
   "version": "3.11.5"
  }
 },
 "nbformat": 4,
 "nbformat_minor": 5
}
